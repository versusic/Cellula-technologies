{
  "nbformat": 4,
  "nbformat_minor": 0,
  "metadata": {
    "colab": {
      "provenance": []
    },
    "kernelspec": {
      "name": "python3",
      "display_name": "Python 3"
    },
    "language_info": {
      "name": "python"
    }
  },
  "cells": [
    {
      "cell_type": "code",
      "execution_count": 63,
      "metadata": {
        "colab": {
          "base_uri": "https://localhost:8080/"
        },
        "id": "EYZNKj7j423q",
        "outputId": "a14ae122-73a0-41cb-a751-dbeacfb382c9"
      },
      "outputs": [
        {
          "output_type": "stream",
          "name": "stdout",
          "text": [
            "Requirement already satisfied: gdown in /usr/local/lib/python3.10/dist-packages (5.1.0)\n",
            "Requirement already satisfied: beautifulsoup4 in /usr/local/lib/python3.10/dist-packages (from gdown) (4.12.3)\n",
            "Requirement already satisfied: filelock in /usr/local/lib/python3.10/dist-packages (from gdown) (3.16.0)\n",
            "Requirement already satisfied: requests[socks] in /usr/local/lib/python3.10/dist-packages (from gdown) (2.32.3)\n",
            "Requirement already satisfied: tqdm in /usr/local/lib/python3.10/dist-packages (from gdown) (4.66.5)\n",
            "Requirement already satisfied: soupsieve>1.2 in /usr/local/lib/python3.10/dist-packages (from beautifulsoup4->gdown) (2.6)\n",
            "Requirement already satisfied: charset-normalizer<4,>=2 in /usr/local/lib/python3.10/dist-packages (from requests[socks]->gdown) (3.3.2)\n",
            "Requirement already satisfied: idna<4,>=2.5 in /usr/local/lib/python3.10/dist-packages (from requests[socks]->gdown) (3.10)\n",
            "Requirement already satisfied: urllib3<3,>=1.21.1 in /usr/local/lib/python3.10/dist-packages (from requests[socks]->gdown) (2.0.7)\n",
            "Requirement already satisfied: certifi>=2017.4.17 in /usr/local/lib/python3.10/dist-packages (from requests[socks]->gdown) (2024.8.30)\n",
            "Requirement already satisfied: PySocks!=1.5.7,>=1.5.6 in /usr/local/lib/python3.10/dist-packages (from requests[socks]->gdown) (1.7.1)\n"
          ]
        }
      ],
      "source": [
        "!pip install gdown"
      ]
    },
    {
      "cell_type": "code",
      "source": [
        "import gdown"
      ],
      "metadata": {
        "id": "LbxXud-Z6pPK"
      },
      "execution_count": 64,
      "outputs": []
    },
    {
      "cell_type": "code",
      "source": [
        "url = 'https://drive.google.com/file/d/10hcRPFP3J4p47ouiT3iOY1sX6UtqD-Ff/view?usp=sharing'\n",
        "output_path = '/content/model.pt'\n",
        "gdown.download(url, output_path, quiet=False,fuzzy=True)"
      ],
      "metadata": {
        "colab": {
          "base_uri": "https://localhost:8080/",
          "height": 128
        },
        "id": "eGmYSnUZ5Egr",
        "outputId": "5d673fc9-0b03-491c-a6dc-4b9ce2f5d8de"
      },
      "execution_count": 65,
      "outputs": [
        {
          "output_type": "stream",
          "name": "stderr",
          "text": [
            "Downloading...\n",
            "From (original): https://drive.google.com/uc?id=10hcRPFP3J4p47ouiT3iOY1sX6UtqD-Ff\n",
            "From (redirected): https://drive.google.com/uc?id=10hcRPFP3J4p47ouiT3iOY1sX6UtqD-Ff&confirm=t&uuid=bbc2ec70-47bf-4ab1-90b4-9518d7461a27\n",
            "To: /content/model.pt\n",
            "100%|██████████| 294M/294M [00:07<00:00, 41.2MB/s]\n"
          ]
        },
        {
          "output_type": "execute_result",
          "data": {
            "text/plain": [
              "'/content/model.pt'"
            ],
            "application/vnd.google.colaboratory.intrinsic+json": {
              "type": "string"
            }
          },
          "metadata": {},
          "execution_count": 65
        }
      ]
    },
    {
      "cell_type": "code",
      "source": [
        "!pip install -q -U segmentation-models-pytorch albumentations > /dev/null\n",
        "import segmentation_models_pytorch as smp"
      ],
      "metadata": {
        "id": "67wQQk806-5B"
      },
      "execution_count": 66,
      "outputs": []
    },
    {
      "cell_type": "code",
      "source": [
        "!pip install flask-ngrok"
      ],
      "metadata": {
        "colab": {
          "base_uri": "https://localhost:8080/"
        },
        "id": "VarQRQ8W_c6W",
        "outputId": "6e5caa07-e792-4dfd-a770-79b8484e29ce"
      },
      "execution_count": 67,
      "outputs": [
        {
          "output_type": "stream",
          "name": "stdout",
          "text": [
            "Requirement already satisfied: flask-ngrok in /usr/local/lib/python3.10/dist-packages (0.0.25)\n",
            "Requirement already satisfied: Flask>=0.8 in /usr/local/lib/python3.10/dist-packages (from flask-ngrok) (2.2.5)\n",
            "Requirement already satisfied: requests in /usr/local/lib/python3.10/dist-packages (from flask-ngrok) (2.32.3)\n",
            "Requirement already satisfied: Werkzeug>=2.2.2 in /usr/local/lib/python3.10/dist-packages (from Flask>=0.8->flask-ngrok) (3.0.4)\n",
            "Requirement already satisfied: Jinja2>=3.0 in /usr/local/lib/python3.10/dist-packages (from Flask>=0.8->flask-ngrok) (3.1.4)\n",
            "Requirement already satisfied: itsdangerous>=2.0 in /usr/local/lib/python3.10/dist-packages (from Flask>=0.8->flask-ngrok) (2.2.0)\n",
            "Requirement already satisfied: click>=8.0 in /usr/local/lib/python3.10/dist-packages (from Flask>=0.8->flask-ngrok) (8.1.7)\n",
            "Requirement already satisfied: charset-normalizer<4,>=2 in /usr/local/lib/python3.10/dist-packages (from requests->flask-ngrok) (3.3.2)\n",
            "Requirement already satisfied: idna<4,>=2.5 in /usr/local/lib/python3.10/dist-packages (from requests->flask-ngrok) (3.10)\n",
            "Requirement already satisfied: urllib3<3,>=1.21.1 in /usr/local/lib/python3.10/dist-packages (from requests->flask-ngrok) (2.0.7)\n",
            "Requirement already satisfied: certifi>=2017.4.17 in /usr/local/lib/python3.10/dist-packages (from requests->flask-ngrok) (2024.8.30)\n",
            "Requirement already satisfied: MarkupSafe>=2.0 in /usr/local/lib/python3.10/dist-packages (from Jinja2>=3.0->Flask>=0.8->flask-ngrok) (2.1.5)\n"
          ]
        }
      ]
    },
    {
      "cell_type": "code",
      "source": [
        "!pip install ngrok"
      ],
      "metadata": {
        "colab": {
          "base_uri": "https://localhost:8080/"
        },
        "id": "muX9dTkvIcOz",
        "outputId": "98d70d2e-6417-4ee0-bfe8-275e68b0d718"
      },
      "execution_count": 68,
      "outputs": [
        {
          "output_type": "stream",
          "name": "stdout",
          "text": [
            "Requirement already satisfied: ngrok in /usr/local/lib/python3.10/dist-packages (1.4.0)\n"
          ]
        }
      ]
    },
    {
      "cell_type": "code",
      "source": [
        "!pip install rasterio"
      ],
      "metadata": {
        "colab": {
          "base_uri": "https://localhost:8080/"
        },
        "id": "3oEs4_wi_OJd",
        "outputId": "38373452-9aba-44ac-db49-bf856bf69ec4"
      },
      "execution_count": 69,
      "outputs": [
        {
          "output_type": "stream",
          "name": "stdout",
          "text": [
            "Requirement already satisfied: rasterio in /usr/local/lib/python3.10/dist-packages (1.3.11)\n",
            "Requirement already satisfied: affine in /usr/local/lib/python3.10/dist-packages (from rasterio) (2.4.0)\n",
            "Requirement already satisfied: attrs in /usr/local/lib/python3.10/dist-packages (from rasterio) (24.2.0)\n",
            "Requirement already satisfied: certifi in /usr/local/lib/python3.10/dist-packages (from rasterio) (2024.8.30)\n",
            "Requirement already satisfied: click>=4.0 in /usr/local/lib/python3.10/dist-packages (from rasterio) (8.1.7)\n",
            "Requirement already satisfied: cligj>=0.5 in /usr/local/lib/python3.10/dist-packages (from rasterio) (0.7.2)\n",
            "Requirement already satisfied: numpy in /usr/local/lib/python3.10/dist-packages (from rasterio) (1.26.4)\n",
            "Requirement already satisfied: snuggs>=1.4.1 in /usr/local/lib/python3.10/dist-packages (from rasterio) (1.4.7)\n",
            "Requirement already satisfied: click-plugins in /usr/local/lib/python3.10/dist-packages (from rasterio) (1.1.1)\n",
            "Requirement already satisfied: setuptools in /usr/local/lib/python3.10/dist-packages (from rasterio) (71.0.4)\n",
            "Requirement already satisfied: pyparsing>=2.1.6 in /usr/local/lib/python3.10/dist-packages (from snuggs>=1.4.1->rasterio) (3.1.4)\n"
          ]
        }
      ]
    },
    {
      "cell_type": "code",
      "source": [
        "from google.colab.output import eval_js\n",
        "print(eval_js(\"google.colab.kernel.proxyPort(5000)\"))"
      ],
      "metadata": {
        "colab": {
          "base_uri": "https://localhost:8080/",
          "height": 35
        },
        "id": "ik7_S89WOo1X",
        "outputId": "936d6829-7976-4743-aa86-4bcc858292bc"
      },
      "execution_count": 70,
      "outputs": [
        {
          "output_type": "stream",
          "name": "stdout",
          "text": [
            "https://tptuc21yrq-496ff2e9c6d22116-5000-colab.googleusercontent.com/\n"
          ]
        }
      ]
    },
    {
      "cell_type": "code",
      "source": [
        "!mkdir templates"
      ],
      "metadata": {
        "id": "Ngw46ESDdSNd",
        "colab": {
          "base_uri": "https://localhost:8080/"
        },
        "outputId": "a55235e6-0b49-4281-8839-d3075790cb54"
      },
      "execution_count": 71,
      "outputs": [
        {
          "output_type": "stream",
          "name": "stdout",
          "text": [
            "mkdir: cannot create directory ‘templates’: File exists\n"
          ]
        }
      ]
    },
    {
      "cell_type": "code",
      "source": [
        "!mkdir uploads"
      ],
      "metadata": {
        "colab": {
          "base_uri": "https://localhost:8080/"
        },
        "id": "ow_HJ5ZLxXeh",
        "outputId": "4fe08f21-2b1d-48f3-9e10-5b3118c32a39"
      },
      "execution_count": 72,
      "outputs": [
        {
          "output_type": "stream",
          "name": "stdout",
          "text": [
            "mkdir: cannot create directory ‘uploads’: File exists\n"
          ]
        }
      ]
    },
    {
      "cell_type": "code",
      "source": [
        "%%writefile /content/templates/index.html\n",
        "<!DOCTYPE html>\n",
        "<html>\n",
        "<head>\n",
        "    <title>Upload Image</title>\n",
        "</head>\n",
        "<body>\n",
        "    <h1>Upload an Image</h1>\n",
        "    <p>Upload an image to be segmented: *only 128x128 .tif files are allowed*</p>\n",
        "    <p>{{error}}</p>\n",
        "    <form action=\"/upload\" method=\"POST\" enctype=\"multipart/form-data\">\n",
        "        <input type=\"file\" name=\"image\">\n",
        "        <input type=\"submit\" value=\"Upload\">\n",
        "    </form>\n",
        "</body>\n",
        "</html>"
      ],
      "metadata": {
        "colab": {
          "base_uri": "https://localhost:8080/"
        },
        "id": "AfLoOU0tdC45",
        "outputId": "6f002c91-0dcd-41cb-eade-b2b312cadc8a"
      },
      "execution_count": 73,
      "outputs": [
        {
          "output_type": "stream",
          "name": "stdout",
          "text": [
            "Overwriting /content/templates/index.html\n"
          ]
        }
      ]
    },
    {
      "cell_type": "code",
      "source": [
        "%%writefile /content/templates/result.html\n",
        "<!DOCTYPE html>\n",
        "<html>\n",
        "<head>\n",
        "    <title>Model Results</title>\n",
        "</head>\n",
        "<body>\n",
        "    <h1>Model Results</h1>\n",
        "    <p>The original image:</p>\n",
        "    <img src=\"{{ url_for('serve_image', display_filename=display_filename) }}\" alt=\"Uploaded Image\">\n",
        "    <p>The segmented image:</p>\n",
        "    <img src=\"{{ url_for('serve_model', model_filename=model_filename) }}\" alt=\"Uploaded Image\">\n",
        "</body>\n",
        "</html>"
      ],
      "metadata": {
        "colab": {
          "base_uri": "https://localhost:8080/"
        },
        "id": "5DOagvxxdhVd",
        "outputId": "0aa3577a-0aaa-4d6f-aeaf-d5e2f1f30453"
      },
      "execution_count": 97,
      "outputs": [
        {
          "output_type": "stream",
          "name": "stdout",
          "text": [
            "Overwriting /content/templates/result.html\n"
          ]
        }
      ]
    },
    {
      "cell_type": "code",
      "source": [
        "%%writefile app.py\n",
        "from flask import Flask, render_template, request, send_from_directory\n",
        "import os\n",
        "import rasterio\n",
        "import numpy as np\n",
        "import matplotlib.pyplot as plt\n",
        "import io\n",
        "from PIL import Image\n",
        "import torch\n",
        "from torch.utils.data import DataLoader, Dataset\n",
        "\n",
        "class DatasetOptim(Dataset):\n",
        "    def __init__(self, images):\n",
        "        self.images = images\n",
        "\n",
        "    def __len__(self):\n",
        "        return len(self.images)\n",
        "\n",
        "    def __getitem__(self, idx):\n",
        "        image = torch.from_numpy(self.images[idx]).float()\n",
        "        return image\n",
        "\n",
        "def input_processor(path):\n",
        "    image_array_holder = []\n",
        "    with rasterio.open(path) as image:\n",
        "        image_array = image.read()\n",
        "    normalized_image_array = []\n",
        "    for j in range(12):\n",
        "        band_range = image_array[j].max() - image_array[j].min()\n",
        "        normalized_band = (image_array[j]-image_array[j].min())/[band_range if band_range!=0 else 1]\n",
        "        normalized_image_array.append(normalized_band)\n",
        "    image_array = np.array(normalized_image_array)\n",
        "    image_array_holder.append(image_array)\n",
        "    image_array_holder.append(image_array)\n",
        "    image_array_holder = np.array(image_array_holder)\n",
        "    model_input = DatasetOptim(image_array_holder)\n",
        "    model_input = DataLoader(model_input, 2)\n",
        "    return model_input\n",
        "\n",
        "app = Flask(__name__)\n",
        "\n",
        "app.template_folder = os.path.join(os.path.dirname(__file__), 'templates')\n",
        "\n",
        "UPLOAD_FOLDER = '/content/uploads'\n",
        "\n",
        "app.config['UPLOAD_FOLDER'] = UPLOAD_FOLDER\n",
        "\n",
        "@app.route('/')\n",
        "def index():\n",
        "    return render_template('index.html', error=None)\n",
        "\n",
        "@app.route('/upload', methods=['POST'])\n",
        "def upload_image():\n",
        "    if 'image' not in request.files:\n",
        "        return render_template('index.html', error='No image file')\n",
        "\n",
        "    file = request.files['image']\n",
        "    if file.filename == '':\n",
        "        return render_template('index.html', error='No selected file')\n",
        "\n",
        "    if '.tif' not in file.filename:\n",
        "        return render_template('index.html', error='Invalid file format. Only .tif files are allowed.')\n",
        "\n",
        "    filename = file.filename\n",
        "    file.save(os.path.join(app.config['UPLOAD_FOLDER'], filename))\n",
        "\n",
        "    with rasterio.open(os.path.join(app.config['UPLOAD_FOLDER'], filename)) as image:\n",
        "      image_array = image.read()\n",
        "\n",
        "    normalized_image_array = []\n",
        "    for j in range(12):\n",
        "        band_range = image_array[j].max() - image_array[j].min()\n",
        "        normalized_band = (image_array[j]-image_array[j].min())/[band_range if band_range!=0 else 1]\n",
        "        normalized_image_array.append(normalized_band)\n",
        "    image_array = np.array(normalized_image_array)\n",
        "    image_array = image_array.transpose((1, 2, 0))\n",
        "    display_image = image_array[:, :, [3, 2, 1]]\n",
        "    display_filename = 'result.jpeg'\n",
        "\n",
        "    plt.imsave(os.path.join(app.config['UPLOAD_FOLDER'], display_filename), display_image)\n",
        "\n",
        "    model_input = input_processor(os.path.join(app.config['UPLOAD_FOLDER'], filename))\n",
        "\n",
        "    model = torch.load('/content/model.pt', map_location=torch.device('cpu'))\n",
        "    model = model.module.to('cpu')\n",
        "\n",
        "    with torch.no_grad():\n",
        "      for x in model_input:\n",
        "          outputs = model(x)\n",
        "          predicted = outputs.round()\n",
        "\n",
        "          images = x[0].permute((1, 2, 0))\n",
        "          predicted = predicted[0].permute((1, 2, 0)).squeeze(0)\n",
        "\n",
        "          masked_pic =  np.array(images[:, :, [3, 2, 1]] + np.dstack([predicted*0.1, predicted*0.1, predicted*0.6]))\n",
        "\n",
        "          model_filename = 'model_output.jpeg'\n",
        "\n",
        "          plt.imsave(os.path.join(app.config['UPLOAD_FOLDER'], model_filename), masked_pic/masked_pic.max())\n",
        "\n",
        "    return render_template('result.html', display_filename=display_filename, model_filename=model_filename)\n",
        "\n",
        "@app.route('/uploads/<display_filename>')\n",
        "def serve_image(display_filename):\n",
        "    return send_from_directory('uploads', display_filename)\n",
        "\n",
        "@app.route('/uploads/<model_filename>')\n",
        "def serve_model(model_filename):\n",
        "    return send_from_directory('uploads', model_filename)\n",
        "\n",
        "if __name__ == '__main__':\n",
        "    app.run(debug=True)"
      ],
      "metadata": {
        "colab": {
          "base_uri": "https://localhost:8080/"
        },
        "id": "JRHoQjS1cr1v",
        "outputId": "7bb98636-e4b9-4cf2-ff86-12e95b67c421"
      },
      "execution_count": 102,
      "outputs": [
        {
          "output_type": "stream",
          "name": "stdout",
          "text": [
            "Overwriting app.py\n"
          ]
        }
      ]
    },
    {
      "cell_type": "code",
      "source": [
        "!python app.py"
      ],
      "metadata": {
        "colab": {
          "base_uri": "https://localhost:8080/"
        },
        "id": "DIgdLpazdmkl",
        "outputId": "07702da7-dc7d-4aa0-828a-6541033c2cf3"
      },
      "execution_count": null,
      "outputs": [
        {
          "output_type": "stream",
          "name": "stdout",
          "text": [
            " * Serving Flask app 'app'\n",
            " * Debug mode: on\n",
            "\u001b[31m\u001b[1mWARNING: This is a development server. Do not use it in a production deployment. Use a production WSGI server instead.\u001b[0m\n",
            " * Running on http://127.0.0.1:5000\n",
            "\u001b[33mPress CTRL+C to quit\u001b[0m\n",
            " * Restarting with stat\n",
            " * Debugger is active!\n",
            " * Debugger PIN: 528-776-979\n",
            "127.0.0.1 - - [19/Sep/2024 20:42:44] \"GET /?authuser=0 HTTP/1.1\" 200 -\n",
            "127.0.0.1 - - [19/Sep/2024 20:42:44] \"\u001b[33mGET /favicon.ico?authuser=0 HTTP/1.1\u001b[0m\" 404 -\n"
          ]
        }
      ]
    }
  ]
}